{
 "cells": [
  {
   "cell_type": "markdown",
   "id": "e8844de7",
   "metadata": {},
   "source": [
    "Question 1- Write a Python program to replace all occurrences of a space, comma, or dot with a colon.\n",
    "Sample Text- 'Python Exercises, PHP exercises.'\n",
    "Expected Output: Python:Exercises::PHP:exercises:\n"
   ]
  },
  {
   "cell_type": "code",
   "execution_count": 2,
   "id": "55697bf5",
   "metadata": {},
   "outputs": [],
   "source": [
    "import re"
   ]
  },
  {
   "cell_type": "code",
   "execution_count": 7,
   "id": "004cfe27",
   "metadata": {},
   "outputs": [],
   "source": [
    "Sample_Text= 'Python Exercises, PHP exercises.'\n",
    "result=re.sub(r\"[ ,.]\",\":\",Sample_Text)"
   ]
  },
  {
   "cell_type": "code",
   "execution_count": 8,
   "id": "0140ec21",
   "metadata": {},
   "outputs": [
    {
     "name": "stdout",
     "output_type": "stream",
     "text": [
      "Python:Exercises::PHP:exercises:\n"
     ]
    }
   ],
   "source": [
    "print(result)"
   ]
  },
  {
   "cell_type": "markdown",
   "id": "d7d7ccd2",
   "metadata": {},
   "source": [
    "Question 3-Create a function in python to find all words that are at least 4 characters long in a string. The use of the re.compile() method is mandatory."
   ]
  },
  {
   "cell_type": "code",
   "execution_count": 9,
   "id": "e6b172c3",
   "metadata": {},
   "outputs": [],
   "source": [
    "import re"
   ]
  },
  {
   "cell_type": "code",
   "execution_count": null,
   "id": "1155805d",
   "metadata": {},
   "outputs": [],
   "source": [
    "prog= re.compile (r\"/w{4}\", target_string)\n",
    "result= prog.match(target_string)"
   ]
  },
  {
   "cell_type": "markdown",
   "id": "5e39a64e",
   "metadata": {},
   "source": [
    "Question 4- Create a function in python to find all three, four, and five character words in a string. The use of the re.compile() method is mandatory."
   ]
  },
  {
   "cell_type": "code",
   "execution_count": 11,
   "id": "610445f0",
   "metadata": {},
   "outputs": [],
   "source": [
    "import re"
   ]
  },
  {
   "cell_type": "code",
   "execution_count": null,
   "id": "98510344",
   "metadata": {},
   "outputs": [],
   "source": [
    "prog1=re.compile (r\"/b/w{3,5}\\b\")\n",
    "result1=prog1.match(target_string)"
   ]
  },
  {
   "cell_type": "code",
   "execution_count": null,
   "id": "accd450a",
   "metadata": {},
   "outputs": [],
   "source": [
    "Question 5- Create a function in Python to remove the parenthesis in a list of strings. The use of the re.compile() method is mandatory.\n",
    "Sample Text: [\"example (.com)\", \"hr@fliprobo (.com)\", \"github (.com)\", \"Hello (Data Science World)\", \"Data (Scientist)\"]\n",
    "\n"
   ]
  },
  {
   "cell_type": "code",
   "execution_count": 12,
   "id": "c8e6f2c2",
   "metadata": {},
   "outputs": [],
   "source": [
    "import re\n",
    "Sample Text: [\"example (.com)\", \"hr@fliprobo (.com)\", \"github (.com)\", \"Hello (Data Science World)\", \"Data (Scientist)\"]"
   ]
  },
  {
   "cell_type": "code",
   "execution_count": null,
   "id": "f9b43edc",
   "metadata": {},
   "outputs": [],
   "source": [
    "prog2=re.compile(r\"?\\([^)]+\\)\",\" \",Sample Text)\n",
    "result2=prog2.match(sample text)"
   ]
  },
  {
   "cell_type": "markdown",
   "id": "4bc4fd06",
   "metadata": {},
   "source": [
    "Question 7- Write a regular expression in Python to split a string into uppercase letters.\n",
    "Sample text: “ImportanceOfRegularExpressionsInPython”\n",
    "Expected Output: [‘Importance’, ‘Of’, ‘Regular’, ‘Expression’, ‘In’, ‘Python’]\n"
   ]
  },
  {
   "cell_type": "code",
   "execution_count": 20,
   "id": "cc610f7f",
   "metadata": {},
   "outputs": [],
   "source": [
    "import re\n",
    "import regex as re"
   ]
  },
  {
   "cell_type": "code",
   "execution_count": null,
   "id": "66d9b884",
   "metadata": {},
   "outputs": [],
   "source": [
    "string= “ImportanceOfRegularExpressionsInPython”\n",
    "pattern=r\"\\[A-Z]\"\n",
    "result=re.spilt(pattern,string)\n",
    "print(result)"
   ]
  },
  {
   "cell_type": "code",
   "execution_count": null,
   "id": "984c1fd6",
   "metadata": {},
   "outputs": [],
   "source": [
    "result=re.spilt(pattern,string)\n",
    "print(result)"
   ]
  },
  {
   "cell_type": "markdown",
   "id": "b20a89c0",
   "metadata": {},
   "source": [
    "Question 8- Create a function in python to insert spaces between words starting with numbers.\n",
    "Sample Text: “RegularExpression1IsAn2ImportantTopic3InPython\"\n",
    "Expected Output: RegularExpression 1IsAn 2ImportantTopic 3InPython\n"
   ]
  },
  {
   "cell_type": "code",
   "execution_count": 27,
   "id": "fcd49186",
   "metadata": {},
   "outputs": [],
   "source": [
    "import re\n",
    "import regex as re"
   ]
  },
  {
   "cell_type": "code",
   "execution_count": 30,
   "id": "ff4660c4",
   "metadata": {},
   "outputs": [
    {
     "ename": "SyntaxError",
     "evalue": "invalid character '“' (U+201C) (1307646300.py, line 1)",
     "output_type": "error",
     "traceback": [
      "\u001b[1;36m  Cell \u001b[1;32mIn[30], line 1\u001b[1;36m\u001b[0m\n\u001b[1;33m    Sample Text= “RegularExpression1IsAn2ImportantTopic3InPython\"\u001b[0m\n\u001b[1;37m                 ^\u001b[0m\n\u001b[1;31mSyntaxError\u001b[0m\u001b[1;31m:\u001b[0m invalid character '“' (U+201C)\n"
     ]
    }
   ],
   "source": [
    "Sample Text= “RegularExpression1IsAn2ImportantTopic3InPython\"\n",
    "pattern1='\\d+'\n",
    "result1=re.spilt(pattern,Sample Test)\n",
    "print(result1)"
   ]
  },
  {
   "cell_type": "markdown",
   "id": "29d6f5be",
   "metadata": {},
   "source": [
    "Question 9- Create a function in python to insert spaces between words starting with capital letters or with numbers.\n",
    "Sample Text: “RegularExpression1IsAn2ImportantTopic3InPython\"\n",
    "Expected Output:  RegularExpression 1 IsAn 2 ImportantTopic 3 InPython\n"
   ]
  },
  {
   "cell_type": "code",
   "execution_count": null,
   "id": "95b29a21",
   "metadata": {},
   "outputs": [],
   "source": [
    "Sample Text= “RegularExpression1IsAn2ImportantTopic3InPython\"\n",
    "pattern= r\"/[A-Z]\\d+\"\n",
    "result=re.spilt(pattern,Sample Text)"
   ]
  },
  {
   "cell_type": "markdown",
   "id": "e2853fe0",
   "metadata": {},
   "source": [
    "Question 11- Write a Python program to match a string that contains only upper and lowercase letters, numbers, and underscores."
   ]
  },
  {
   "cell_type": "code",
   "execution_count": 32,
   "id": "624568a4",
   "metadata": {},
   "outputs": [],
   "source": [
    "import re"
   ]
  },
  {
   "cell_type": "code",
   "execution_count": null,
   "id": "fa48cb86",
   "metadata": {},
   "outputs": [],
   "source": [
    "result= re.search(r'[A-Za-z0-9_]*$',string)\n",
    "print(result)"
   ]
  },
  {
   "cell_type": "markdown",
   "id": "2521e054",
   "metadata": {},
   "source": [
    "Question 12- Write a Python program where a string will start with a specific number. "
   ]
  },
  {
   "cell_type": "code",
   "execution_count": null,
   "id": "ee0034ec",
   "metadata": {},
   "outputs": [],
   "source": [
    "import re\n",
    "pattern= r\"^4\"\n",
    "result=(pattern,string)# it gives a a number starts with 4 "
   ]
  },
  {
   "cell_type": "markdown",
   "id": "1dd354fa",
   "metadata": {},
   "source": [
    "Question 13- Write a Python program to remove leading zeros from an IP address"
   ]
  },
  {
   "cell_type": "code",
   "execution_count": null,
   "id": "edac95ed",
   "metadata": {},
   "outputs": [],
   "source": [
    "import re\n",
    "result=re.sub(r'\\.[0]*',ip)\n",
    "print(result)"
   ]
  },
  {
   "cell_type": "markdown",
   "id": "d1ef50e4",
   "metadata": {},
   "source": [
    "Question 14- Write a regular expression in python to match a date string in the form of Month name followed by day number and year stored in a text file.\n",
    "Sample text :  ' On August 15th 1947 that India was declared independent from British colonialism, and the reins of control were handed over to the leaders of the Country’.\n",
    "Expected Output- August 15th 1947\n",
    "Note- Store given sample text in the text file and then extract the date string asked format.\n"
   ]
  },
  {
   "cell_type": "code",
   "execution_count": 33,
   "id": "b524fc37",
   "metadata": {},
   "outputs": [],
   "source": [
    "import re"
   ]
  },
  {
   "cell_type": "code",
   "execution_count": 34,
   "id": "d2fb32a1",
   "metadata": {},
   "outputs": [],
   "source": [
    "import pandas as pd"
   ]
  },
  {
   "cell_type": "code",
   "execution_count": 37,
   "id": "d3f23128",
   "metadata": {},
   "outputs": [],
   "source": [
    "import regex as re"
   ]
  },
  {
   "cell_type": "code",
   "execution_count": null,
   "id": "4962bc9e",
   "metadata": {},
   "outputs": [],
   "source": [
    "with open(\"http://localhost:8888/edit/Desktop/regex%20project/date.txt\") as file:"
   ]
  },
  {
   "cell_type": "code",
   "execution_count": null,
   "id": "1e4c6ad4",
   "metadata": {},
   "outputs": [],
   "source": [
    "date= mm-dd-yyyy\n",
    "date= re.search(r'[\\w{6}-[\\d\\w{2}-\\d{4}]])"
   ]
  },
  {
   "cell_type": "markdown",
   "id": "1a9e7405",
   "metadata": {},
   "source": [
    "Question 15- Write a Python program to search some literals strings in a string. \n",
    "Sample text : 'The quick brown fox jumps over the lazy dog.'\n",
    "Searched words : 'fox', 'dog', 'horse'\n"
   ]
  },
  {
   "cell_type": "code",
   "execution_count": null,
   "id": "05639cab",
   "metadata": {},
   "outputs": [],
   "source": [
    "import re"
   ]
  },
  {
   "cell_type": "code",
   "execution_count": null,
   "id": "d2ed01bf",
   "metadata": {},
   "outputs": [],
   "source": [
    "Sample text = 'The quick brown fox jumps over the lazy dog.'\n",
    "    result= re.findall(r'[\\bfo\\bdo\\bho]',Sample text)\n",
    "    print(result)"
   ]
  },
  {
   "cell_type": "markdown",
   "id": "a66163eb",
   "metadata": {},
   "source": [
    "Question 16- Write a Python program to search a literals string in a string and also find the location within the original string where the pattern occurs\n",
    "Sample text : 'The quick brown fox jumps over the lazy dog.'\n",
    "Searched words : 'fox'\n"
   ]
  },
  {
   "cell_type": "code",
   "execution_count": null,
   "id": "a7f9c5e4",
   "metadata": {},
   "outputs": [],
   "source": [
    "Sample text : 'The quick brown fox jumps over the lazy dog.'"
   ]
  },
  {
   "cell_type": "code",
   "execution_count": null,
   "id": "b2bf0c83",
   "metadata": {},
   "outputs": [],
   "source": [
    "x= re.findall(\"fox\",Sample text)\n",
    "print(x)\n",
    "or\n",
    "x=re.search(r'^f',Sample text)\n",
    "print(x)"
   ]
  },
  {
   "cell_type": "markdown",
   "id": "fd5cbc64",
   "metadata": {},
   "source": [
    "Question 17- Write a Python program to find the substrings within a string.\n",
    "Sample text : 'Python exercises, PHP exercises, C# exercises'\n",
    "Pattern : 'exercises'.\n"
   ]
  },
  {
   "cell_type": "code",
   "execution_count": null,
   "id": "5616c907",
   "metadata": {},
   "outputs": [],
   "source": [
    "import re"
   ]
  },
  {
   "cell_type": "code",
   "execution_count": null,
   "id": "25fda867",
   "metadata": {},
   "outputs": [],
   "source": [
    "Sample text = 'Python exercises, PHP exercises, C# exercises'"
   ]
  },
  {
   "cell_type": "code",
   "execution_count": null,
   "id": "46936c2c",
   "metadata": {},
   "outputs": [],
   "source": [
    "result=re.search(r'\\bC#,Sample text)\n",
    "                 print(result)"
   ]
  },
  {
   "cell_type": "markdown",
   "id": "0bb2ac60",
   "metadata": {},
   "source": [
    "Question 19- Write a Python program to convert a date of yyyy-mm-dd format to dd-mm-yyyy format."
   ]
  },
  {
   "cell_type": "code",
   "execution_count": 38,
   "id": "b36905f9",
   "metadata": {},
   "outputs": [],
   "source": [
    "import re"
   ]
  },
  {
   "cell_type": "code",
   "execution_count": null,
   "id": "517404b6",
   "metadata": {},
   "outputs": [],
   "source": [
    "Date=yyyy-mm-dd# existing format \n",
    "result= re.sub(r'(\\d{4})-(\\d{2})-(\\d{2})',(\\d{2})-(\\d{2})-(\\d{4}), target String)\n",
    "print(result)"
   ]
  },
  {
   "cell_type": "markdown",
   "id": "57ebf3c4",
   "metadata": {},
   "source": [
    "Question 20- Create a function in python to find all decimal numbers with a precision of 1 or 2 in a string. The use of the re.compile() method is mandatory.\n",
    "Sample Text: \"01.12 0132.123 2.31875 145.8 3.01 27.25 0.25\"\n",
    "Expected Output: ['01.12', '145.8', '3.01', '27.25', '0.25']\n"
   ]
  },
  {
   "cell_type": "code",
   "execution_count": null,
   "id": "3c34215c",
   "metadata": {},
   "outputs": [],
   "source": [
    "pattern= (r'^[0-9]+(\\.[0-9]{1,2}?$'))\n",
    "prog3=re.compile(pattern,target_string)\n",
    "result=prog3.match(target_string)"
   ]
  },
  {
   "cell_type": "markdown",
   "id": "bd5e62c4",
   "metadata": {},
   "source": [
    "Write a Python program to separate and print the numbers and their position of a given string."
   ]
  },
  {
   "cell_type": "code",
   "execution_count": null,
   "id": "9363ee5d",
   "metadata": {},
   "outputs": [],
   "source": [
    "string=xyz123"
   ]
  },
  {
   "cell_type": "code",
   "execution_count": null,
   "id": "9413ccde",
   "metadata": {},
   "outputs": [],
   "source": [
    "result=re.finditer(r'\\d+',string)\n",
    "for match_obj in result\n",
    "    print(match_obj)\n",
    "    # for extraxt each matching numbers \n",
    "    print(match_obj.group())"
   ]
  },
  {
   "cell_type": "markdown",
   "id": "956e3277",
   "metadata": {},
   "source": [
    "Question 22- Write a regular expression in python program to extract maximum/largest numeric value from a string.\n",
    "Sample Text:  'My marks in each semester are: 947, 896, 926, 524, 734, 950, 642'\n",
    "Expected Output: 950\n"
   ]
  },
  {
   "cell_type": "code",
   "execution_count": 39,
   "id": "d4fe63ae",
   "metadata": {},
   "outputs": [],
   "source": [
    "import re"
   ]
  },
  {
   "cell_type": "code",
   "execution_count": null,
   "id": "a2b7b7f6",
   "metadata": {},
   "outputs": [],
   "source": [
    "Sample Text ='My marks in each semester are: 947, 896, 926, 524, 734, 950, 642'\n",
    "for_number= re.findall(r'\\d+', Sample Text)\n",
    "for_number=[int(number) for number in for_number]\n",
    "maximum_number=max(for_number)\n",
    "print(maximum_number)"
   ]
  },
  {
   "cell_type": "markdown",
   "id": "b4711bd8",
   "metadata": {},
   "source": [
    "Question 23- Create a function in python to insert spaces between words starting with capital letters.\n",
    "Sample Text: “RegularExpressionIsAnImportantTopicInPython\"\n",
    "Expected Output: Regular Expression Is An Important Topic In Python\n"
   ]
  },
  {
   "cell_type": "code",
   "execution_count": 40,
   "id": "d8f623bb",
   "metadata": {},
   "outputs": [],
   "source": [
    "import re"
   ]
  },
  {
   "cell_type": "code",
   "execution_count": null,
   "id": "69881de9",
   "metadata": {},
   "outputs": [],
   "source": [
    "Sample Text=“RegularExpressionIsAnImportantTopicInPython\"\n",
    "    pattern=(r'(\\w)([A-Z][a-z]+)')\n",
    "    result=re.sub(r'(\\w)([A-Z][a-z]+)',r'\\1', Sample Text)\n",
    "    print(result)"
   ]
  },
  {
   "cell_type": "markdown",
   "id": "64892236",
   "metadata": {},
   "source": [
    "Question 24- Python regex to find sequences of one upper case letter followed by lower case letters"
   ]
  },
  {
   "cell_type": "code",
   "execution_count": 41,
   "id": "3ce1da38",
   "metadata": {},
   "outputs": [],
   "source": [
    "import re"
   ]
  },
  {
   "cell_type": "code",
   "execution_count": null,
   "id": "98a13cf8",
   "metadata": {},
   "outputs": [],
   "source": [
    "string=Xyz AbbW\n",
    " pattern=(r'(\\w)([A-Z][a-z]+)')\n",
    "    result= re.findall(pattern,string)"
   ]
  },
  {
   "cell_type": "markdown",
   "id": "451dc826",
   "metadata": {},
   "source": [
    "Question 25- Write a Python program to remove continuous duplicate words from Sentence using Regular Expression.\n",
    "Sample Text: \"Hello hello world world\"\n",
    "Expected Output: Hello hello world\n"
   ]
  },
  {
   "cell_type": "code",
   "execution_count": 42,
   "id": "a473ce20",
   "metadata": {},
   "outputs": [],
   "source": [
    "import re"
   ]
  },
  {
   "cell_type": "code",
   "execution_count": null,
   "id": "c775de0c",
   "metadata": {},
   "outputs": [],
   "source": [
    "Sample_Text = \"Hello hello world world\""
   ]
  },
  {
   "cell_type": "code",
   "execution_count": null,
   "id": "ace24d19",
   "metadata": {},
   "outputs": [],
   "source": [
    "result=re.sub(r'\\b(\\w+)(\\s+\\1\\b)+',Sample_Text)\n",
    "print(result)"
   ]
  },
  {
   "cell_type": "markdown",
   "id": "72d7eb20",
   "metadata": {},
   "source": [
    "Question 26-  Write a python program using RegEx to accept string ending with alphanumeric character."
   ]
  },
  {
   "cell_type": "code",
   "execution_count": null,
   "id": "ea067f21",
   "metadata": {},
   "outputs": [],
   "source": [
    "string= sagar123"
   ]
  },
  {
   "cell_type": "code",
   "execution_count": null,
   "id": "ac23c2dc",
   "metadata": {},
   "outputs": [],
   "source": [
    "matchstring=re.search(r'\\w$',string)"
   ]
  },
  {
   "cell_type": "markdown",
   "id": "4dcfeb3a",
   "metadata": {},
   "source": [
    "Question 27-Write a python program using RegEx to extract the hashtags.\n",
    "Sample Text:  \"\"\"RT @kapil_kausik: #Doltiwal I mean #xyzabc is \"hurt\" by #Demonetization as the same has rendered USELESS <ed><U+00A0><U+00BD><ed><U+00B1><U+0089> \"acquired funds\" No wo\"\"\"\n",
    "Expected Output: ['#Doltiwal', '#xyzabc', '#Demonetization']\n"
   ]
  },
  {
   "cell_type": "code",
   "execution_count": 49,
   "id": "0fe50b67",
   "metadata": {},
   "outputs": [],
   "source": [
    "import re"
   ]
  },
  {
   "cell_type": "code",
   "execution_count": null,
   "id": "1508c3be",
   "metadata": {},
   "outputs": [],
   "source": [
    "Sample_Text= \"\"\"RT @kapil_kausik: #Doltiwal I mean #xyzabc is \"hurt\" by #Demonetization as the same has rendered USELESS <ed><U+00A0><U+00BD><ed><U+00B1><U+0089> \"acquired funds\" No wo\"\"\""
   ]
  },
  {
   "cell_type": "code",
   "execution_count": null,
   "id": "519f7605",
   "metadata": {},
   "outputs": [],
   "source": [
    "result=re.findall(r'#\\w+',Sample_Text)\n",
    "print(result)"
   ]
  },
  {
   "cell_type": "markdown",
   "id": "344ee353",
   "metadata": {},
   "source": [
    "Question 28- Write a python program using RegEx to remove <U+..> like symbols\n",
    "Check the below sample text, there are strange symbols something of the sort <U+..> all over the place. You need to come up with a general Regex expression that will cover all such symbols.\n",
    "Sample Text: \"@Jags123456 Bharat band on 28??<ed><U+00A0><U+00BD><ed><U+00B8><U+0082>Those who  are protesting #demonetization  are all different party leaders\"\n",
    "Expected Output: @Jags123456 Bharat band on 28??<ed><ed>Those who  are protesting #demonetization  are all different party leaders\n"
   ]
  },
  {
   "cell_type": "code",
   "execution_count": 66,
   "id": "03c6fb42",
   "metadata": {},
   "outputs": [],
   "source": [
    "import re"
   ]
  },
  {
   "cell_type": "code",
   "execution_count": 65,
   "id": "098e903a",
   "metadata": {},
   "outputs": [],
   "source": [
    "Sample_Text=\"@Jags123456 Bharat band on 28??<ed><U+00A0><U+00BD><ed><U+00B8><U+0082>Those who  are protesting #demonetization  are all different party leaders\""
   ]
  },
  {
   "cell_type": "code",
   "execution_count": 67,
   "id": "cd9d8530",
   "metadata": {},
   "outputs": [],
   "source": [
    "sort=re.sub(r'<U\\+\\w{4}>',\"\",Sample_Text)"
   ]
  },
  {
   "cell_type": "code",
   "execution_count": 68,
   "id": "99612a4d",
   "metadata": {},
   "outputs": [
    {
     "name": "stdout",
     "output_type": "stream",
     "text": [
      "@Jags123456 Bharat band on 28??<ed><ed>Those who  are protesting #demonetization  are all different party leaders\n"
     ]
    }
   ],
   "source": [
    "print(sort)"
   ]
  },
  {
   "cell_type": "markdown",
   "id": "f792a41d",
   "metadata": {},
   "source": [
    "Question 29- Write a python program to extract dates from the text stored in the text file.\n",
    "Sample Text: Ron was born on 12-09-1992 and he was admitted to school 15-12-1999.\n",
    "Note- Store this sample text in the file and then extract dates.\n"
   ]
  },
  {
   "cell_type": "code",
   "execution_count": 69,
   "id": "f7210aab",
   "metadata": {},
   "outputs": [],
   "source": [
    "import re"
   ]
  },
  {
   "cell_type": "code",
   "execution_count": 70,
   "id": "10e87c34",
   "metadata": {},
   "outputs": [],
   "source": [
    "import pandas as pd"
   ]
  },
  {
   "cell_type": "code",
   "execution_count": 89,
   "id": "7b18a49d",
   "metadata": {},
   "outputs": [
    {
     "ename": "SyntaxError",
     "evalue": "invalid decimal literal (990642696.py, line 1)",
     "output_type": "error",
     "traceback": [
      "\u001b[1;36m  Cell \u001b[1;32mIn[89], line 1\u001b[1;36m\u001b[0m\n\u001b[1;33m    with open ('r'http://localhost:8888/edit/Desktop/regex%20project/ram_born.txt')as file:\u001b[0m\n\u001b[1;37m                                                            ^\u001b[0m\n\u001b[1;31mSyntaxError\u001b[0m\u001b[1;31m:\u001b[0m invalid decimal literal\n"
     ]
    }
   ],
   "source": [
    "with open ('r'http://localhost:8888/edit/Desktop/regex%20project/ram_born.txt')as file:\n",
    "    Sample Text = file.read()"
   ]
  },
  {
   "cell_type": "code",
   "execution_count": null,
   "id": "91d2b31d",
   "metadata": {},
   "outputs": [],
   "source": [
    "date123= re.findall(r'\\d{2}-\\d{2}-\\d{4}',textfile)\n",
    "print(date123)"
   ]
  },
  {
   "cell_type": "markdown",
   "id": "afd4e7f6",
   "metadata": {},
   "source": [
    "Question 30- Create a function in python to remove all words from a string of length between 2 and 4.\n",
    "The use of the re.compile() method is mandatory.\n",
    "Sample Text: \"The following example creates an ArrayList with a capacity of 50 elements. 4 elements are then added to the ArrayList and the ArrayList is trimmed accordingly.\"\n",
    "Expected Output:  following example creates ArrayList a capacity elements. 4 elements added ArrayList ArrayList trimmed accordingly\n"
   ]
  },
  {
   "cell_type": "code",
   "execution_count": 92,
   "id": "1b05a12d",
   "metadata": {},
   "outputs": [],
   "source": [
    "import re"
   ]
  },
  {
   "cell_type": "code",
   "execution_count": 90,
   "id": "0bee4ae3",
   "metadata": {},
   "outputs": [],
   "source": [
    "Sample_Text =\"The following example creates an ArrayList with a capacity of 50 elements. 4 elements are then added to the ArrayList and the ArrayList is trimmed accordingly.\""
   ]
  },
  {
   "cell_type": "code",
   "execution_count": null,
   "id": "4dea9d90",
   "metadata": {},
   "outputs": [],
   "source": [
    " prog5 = re.compile(r'\\b\\w{2,4}\\b')\n",
    "    result= prog5.match(Sample_Text)"
   ]
  }
 ],
 "metadata": {
  "kernelspec": {
   "display_name": "Python 3 (ipykernel)",
   "language": "python",
   "name": "python3"
  },
  "language_info": {
   "codemirror_mode": {
    "name": "ipython",
    "version": 3
   },
   "file_extension": ".py",
   "mimetype": "text/x-python",
   "name": "python",
   "nbconvert_exporter": "python",
   "pygments_lexer": "ipython3",
   "version": "3.11.5"
  }
 },
 "nbformat": 4,
 "nbformat_minor": 5
}
